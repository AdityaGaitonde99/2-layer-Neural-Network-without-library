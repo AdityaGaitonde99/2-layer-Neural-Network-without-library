{
 "cells": [
  {
   "cell_type": "code",
   "execution_count": 13,
   "id": "77c8e3d6",
   "metadata": {},
   "outputs": [
    {
     "data": {
      "text/html": [
       "<div>\n",
       "<style scoped>\n",
       "    .dataframe tbody tr th:only-of-type {\n",
       "        vertical-align: middle;\n",
       "    }\n",
       "\n",
       "    .dataframe tbody tr th {\n",
       "        vertical-align: top;\n",
       "    }\n",
       "\n",
       "    .dataframe thead th {\n",
       "        text-align: right;\n",
       "    }\n",
       "</style>\n",
       "<table border=\"1\" class=\"dataframe\">\n",
       "  <thead>\n",
       "    <tr style=\"text-align: right;\">\n",
       "      <th></th>\n",
       "      <th>f1</th>\n",
       "      <th>f2</th>\n",
       "      <th>f3</th>\n",
       "      <th>f4</th>\n",
       "      <th>label</th>\n",
       "    </tr>\n",
       "  </thead>\n",
       "  <tbody>\n",
       "    <tr>\n",
       "      <th>0</th>\n",
       "      <td>6.3</td>\n",
       "      <td>2.9</td>\n",
       "      <td>5.6</td>\n",
       "      <td>1.8</td>\n",
       "      <td>1</td>\n",
       "    </tr>\n",
       "    <tr>\n",
       "      <th>1</th>\n",
       "      <td>6.4</td>\n",
       "      <td>2.8</td>\n",
       "      <td>5.6</td>\n",
       "      <td>2.1</td>\n",
       "      <td>1</td>\n",
       "    </tr>\n",
       "    <tr>\n",
       "      <th>2</th>\n",
       "      <td>5.5</td>\n",
       "      <td>2.6</td>\n",
       "      <td>4.4</td>\n",
       "      <td>1.2</td>\n",
       "      <td>1</td>\n",
       "    </tr>\n",
       "    <tr>\n",
       "      <th>3</th>\n",
       "      <td>5.7</td>\n",
       "      <td>2.9</td>\n",
       "      <td>4.2</td>\n",
       "      <td>1.3</td>\n",
       "      <td>1</td>\n",
       "    </tr>\n",
       "    <tr>\n",
       "      <th>4</th>\n",
       "      <td>6.9</td>\n",
       "      <td>3.2</td>\n",
       "      <td>5.7</td>\n",
       "      <td>2.3</td>\n",
       "      <td>1</td>\n",
       "    </tr>\n",
       "    <tr>\n",
       "      <th>...</th>\n",
       "      <td>...</td>\n",
       "      <td>...</td>\n",
       "      <td>...</td>\n",
       "      <td>...</td>\n",
       "      <td>...</td>\n",
       "    </tr>\n",
       "    <tr>\n",
       "      <th>115</th>\n",
       "      <td>7.7</td>\n",
       "      <td>3.8</td>\n",
       "      <td>6.7</td>\n",
       "      <td>2.2</td>\n",
       "      <td>1</td>\n",
       "    </tr>\n",
       "    <tr>\n",
       "      <th>116</th>\n",
       "      <td>6.5</td>\n",
       "      <td>2.8</td>\n",
       "      <td>4.6</td>\n",
       "      <td>1.5</td>\n",
       "      <td>1</td>\n",
       "    </tr>\n",
       "    <tr>\n",
       "      <th>117</th>\n",
       "      <td>4.8</td>\n",
       "      <td>3.0</td>\n",
       "      <td>1.4</td>\n",
       "      <td>0.1</td>\n",
       "      <td>0</td>\n",
       "    </tr>\n",
       "    <tr>\n",
       "      <th>118</th>\n",
       "      <td>5.6</td>\n",
       "      <td>3.0</td>\n",
       "      <td>4.1</td>\n",
       "      <td>1.3</td>\n",
       "      <td>1</td>\n",
       "    </tr>\n",
       "    <tr>\n",
       "      <th>119</th>\n",
       "      <td>5.8</td>\n",
       "      <td>4.0</td>\n",
       "      <td>1.2</td>\n",
       "      <td>0.2</td>\n",
       "      <td>0</td>\n",
       "    </tr>\n",
       "  </tbody>\n",
       "</table>\n",
       "<p>120 rows × 5 columns</p>\n",
       "</div>"
      ],
      "text/plain": [
       "      f1   f2   f3   f4  label\n",
       "0    6.3  2.9  5.6  1.8      1\n",
       "1    6.4  2.8  5.6  2.1      1\n",
       "2    5.5  2.6  4.4  1.2      1\n",
       "3    5.7  2.9  4.2  1.3      1\n",
       "4    6.9  3.2  5.7  2.3      1\n",
       "..   ...  ...  ...  ...    ...\n",
       "115  7.7  3.8  6.7  2.2      1\n",
       "116  6.5  2.8  4.6  1.5      1\n",
       "117  4.8  3.0  1.4  0.1      0\n",
       "118  5.6  3.0  4.1  1.3      1\n",
       "119  5.8  4.0  1.2  0.2      0\n",
       "\n",
       "[120 rows x 5 columns]"
      ]
     },
     "execution_count": 13,
     "metadata": {},
     "output_type": "execute_result"
    }
   ],
   "source": [
    "import pandas as pd\n",
    "import matplotlib.pyplot as plt\n",
    "import numpy as np\n",
    "import random\n",
    "xtrain=pd.read_csv(r\"C:\\Users\\Aditya Gaitonde\\Downloads\\iris_train.csv\")\n",
    "xtest = pd.read_csv(r\"C:\\Users\\Aditya Gaitonde\\Downloads\\iris_test.csv\")\n",
    "xtrain['label'] = xtrain[\"label\"].apply(lambda x: 1 if x ==2 else 0)\n",
    "xtrain"
   ]
  },
  {
   "cell_type": "code",
   "execution_count": 14,
   "id": "10f7ef96",
   "metadata": {},
   "outputs": [
    {
     "name": "stdout",
     "output_type": "stream",
     "text": [
      "[[0.04897604 0.00347445]\n",
      " [0.57637613 0.70769554]\n",
      " [0.78708626 0.95260101]\n",
      " [0.87824225 0.67453757]]\n"
     ]
    }
   ],
   "source": [
    "#initialization\n",
    "input_units=4\n",
    "hidden_units=2\n",
    "output_units=1\n",
    "b1=np.random.rand(hidden_units).reshape(hidden_units,1)\n",
    "b2=np.random.rand(output_units).reshape(output_units,1)\n",
    "w_in=np.random.rand(input_units, hidden_units)\n",
    "w_output=np.random.rand(hidden_units,output_units)\n",
    "print(w_in)"
   ]
  },
  {
   "cell_type": "code",
   "execution_count": 15,
   "id": "49584df2",
   "metadata": {},
   "outputs": [
    {
     "data": {
      "text/plain": [
       "array([ 49, 112,  70,  62,  92, 114, 106,  91,  71,   4,  44,  85,  18,\n",
       "        61,  32,   7,  74,  68,   3,   1,  63, 101,  45,  17, 113,  14,\n",
       "        58, 107, 119,  46,  19,  90,  69, 105,  72,  66,  43,  52,  95,\n",
       "        26,   2,   9, 115,  67, 110,  25,  13,  64, 102,   5,  41,  29,\n",
       "        21,  83,  81,  12,  98,  30,  79,  82,  48,  20,  89, 117,  15,\n",
       "        99,  55,  28,  33,   6, 104,  93,  76,  57,  35, 116,  36,  47,\n",
       "        10,  60,  34, 100,  84,  37,  38,   0,  40,  86,  94,  50,  59,\n",
       "       118,  22,  11,  42,  75,  31,  65,  97,  51,  96,  56,  16,  77,\n",
       "        88, 109, 103,  87,  53, 108,  78,  27,  73,  24, 111,  80,   8,\n",
       "        39,  23,  54])"
      ]
     },
     "execution_count": 15,
     "metadata": {},
     "output_type": "execute_result"
    }
   ],
   "source": [
    "data_order=np.arange(0,len(xtrain))\n",
    "np.random.shuffle(data_order)\n",
    "data_order"
   ]
  },
  {
   "cell_type": "code",
   "execution_count": 16,
   "id": "3aa44474",
   "metadata": {},
   "outputs": [],
   "source": [
    "def logis(x):\n",
    "  return 1/(1+np.exp(-x))\n",
    "def relu(x):\n",
    "  return np.maximum(0,x)\n",
    "def d_relu(x):\n",
    "  if x>0:\n",
    "    return 1\n",
    "  return 0"
   ]
  },
  {
   "cell_type": "code",
   "execution_count": 25,
   "id": "41c86ca3",
   "metadata": {},
   "outputs": [
    {
     "name": "stdout",
     "output_type": "stream",
     "text": [
      "[[ 0.27222261 -1.07710083]\n",
      " [ 0.73086766 -1.16785068]\n",
      " [ 0.84518298  2.76114765]\n",
      " [ 0.88656357  1.52292308]]\n",
      "[[-1.70343622]\n",
      " [ 6.76063933]]\n",
      "45\n"
     ]
    },
    {
     "data": {
      "text/plain": [
       "[<matplotlib.lines.Line2D at 0x24c98fc45b0>]"
      ]
     },
     "execution_count": 25,
     "metadata": {},
     "output_type": "execute_result"
    },
    {
     "data": {
      "image/png": "[encoded data removed]",
      "text/plain": [
       "<Figure size 432x288 with 1 Axes>"
      ]
     },
     "metadata": {
      "needs_background": "light"
     },
     "output_type": "display_data"
    }
   ],
   "source": [
    "l_rate=0.05\n",
    "n_epochs=45\n",
    "act_choice=[logis,relu]\n",
    "#change activation choice as act_choice[0] or act_choice[1]\n",
    "act_hide_chosen=act_choice[0]\n",
    "diff1=[]\n",
    "i=0\n",
    "while i<=n_epochs-1:\n",
    "    t=0\n",
    "    error_sum=0 #used for error plot \n",
    "    while t<=len(data_order)-1:\n",
    "        idata=np.array(xtrain.iloc[data_order[t]]).reshape(5,1)\n",
    "        x_i=idata[:4]\n",
    "        y_label=idata[4:]\n",
    "          #feedforward\n",
    "        net=b1 +np.dot(w_in.T,x_i)\n",
    "        act_hide=np.vectorize(act_hide_chosen)\n",
    "        z_i=act_hide(net)\n",
    "        net0=b2+np.dot(w_output.T,z_i)\n",
    "        act_out=np.vectorize(logis)\n",
    "        o_i=act_out(net0)[0][0] #ignore next 3 lines it was for checking error plot\n",
    "        a=o_i-y_label\n",
    "        error_sum=error_sum+a[0][0]\n",
    "      #backprop\n",
    "      #gradients\n",
    "        de=o_i*(1-o_i)*(o_i-y_label)/(o_i*(1-o_i))\n",
    "        if act_hide_chosen==logis:  \n",
    "            dh=np.multiply(np.multiply(z_i,1-z_i),w_output)*de\n",
    "        else:\n",
    "            diff=np.vectorize(d_relu)\n",
    "            diff_term=diff(net)\n",
    "            dh=np.multiply(w_output,diff_term)*de\n",
    "    #update bias vectors\n",
    "        del_out=de\n",
    "        del_hide=dh\n",
    "        b2=b2-l_rate*del_out\n",
    "        b1=b1-l_rate*del_hide\n",
    "      #update weight matrix\n",
    "        del_w=z_i*de\n",
    "        hide_del_w=np.dot(x_i,dh.T)\n",
    "        w_output=w_output-l_rate*del_w\n",
    "        w_in=w_in-l_rate*hide_del_w\n",
    "        t=t+1\n",
    "    diff1.append(error_sum)\n",
    "    i=i+1\n",
    "print(w_in)\n",
    "print(w_output)\n",
    "print(len(diff1))\n",
    "plt.plot(np.arange(0,n_epochs).reshape(n_epochs,1),np.array(diff1).reshape(n_epochs,1))"
   ]
  },
  {
   "cell_type": "code",
   "execution_count": 26,
   "id": "26ba89c7",
   "metadata": {},
   "outputs": [
    {
     "data": {
      "text/plain": [
       "[1,\n",
       " 1,\n",
       " 0,\n",
       " 0,\n",
       " 0,\n",
       " 0,\n",
       " 1,\n",
       " 0,\n",
       " 1,\n",
       " 1,\n",
       " 1,\n",
       " 0,\n",
       " 1,\n",
       " 1,\n",
       " 1,\n",
       " 1,\n",
       " 1,\n",
       " 1,\n",
       " 1,\n",
       " 1,\n",
       " 1,\n",
       " 0,\n",
       " 0,\n",
       " 1,\n",
       " 1,\n",
       " 1,\n",
       " 1,\n",
       " 0,\n",
       " 0,\n",
       " 1]"
      ]
     },
     "execution_count": 26,
     "metadata": {},
     "output_type": "execute_result"
    }
   ],
   "source": [
    "xtest\n",
    "ypred=[]\n",
    "i=0\n",
    "while i<=len(xtest)-1:\n",
    "    idata=np.array(xtest.iloc[i]).reshape(5,1)\n",
    "    ixtest=idata[:4]\n",
    "  #feedforward\n",
    "    net=b1 +np.dot(w_in.T,ixtest)\n",
    "    act_hide=np.vectorize(act_hide_chosen)\n",
    "    z_i=act_hide(net)\n",
    "    net0=b2+np.dot(w_output.T,z_i)\n",
    "    act_out=np.vectorize(logis)\n",
    "    if act_out(net0)[0][0]>=0.5:\n",
    "        ypred.append(1)\n",
    "    else:\n",
    "        ypred.append(0)\n",
    "    i=i+1\n",
    "ypred"
   ]
  },
  {
   "cell_type": "code",
   "execution_count": 19,
   "id": "90ee5b87",
   "metadata": {},
   "outputs": [],
   "source": [
    "ytest=xtest[\"label\"]\n",
    "xtest[\"label\"] = xtest[\"label\"].apply(lambda x: 1 if x ==2 else 0)\n",
    "ydata=list(xtest[\"label\"])"
   ]
  },
  {
   "cell_type": "code",
   "execution_count": 20,
   "id": "a8077af4",
   "metadata": {},
   "outputs": [
    {
     "name": "stdout",
     "output_type": "stream",
     "text": [
      "30\n"
     ]
    },
    {
     "data": {
      "text/plain": [
       "{'TP': 20, 'TN': 0, 'FP': 10, 'FN': 0}"
      ]
     },
     "execution_count": 20,
     "metadata": {},
     "output_type": "execute_result"
    }
   ],
   "source": [
    "conmat={\"TP\":0,\"TN\":0,\"FP\":0,\"FN\":0}\n",
    "print(len(ydata))\n",
    "for i in range(len(ydata)):\n",
    "  if ydata[i]==ypred[i]==1:\n",
    "    conmat[\"TP\"]=conmat[\"TP\"]+1\n",
    "  elif ydata[i]==ypred[i]==0:\n",
    "    conmat[\"TN\"]=conmat[\"TN\"]+1\n",
    "  elif ydata[i]==1 and ypred[i]==0:\n",
    "    conmat[\"FN\"]=conmat[\"FN\"]+1\n",
    "  else:\n",
    "    conmat[\"FP\"]=conmat[\"FP\"]+1\n",
    "conmat"
   ]
  },
  {
   "cell_type": "code",
   "execution_count": 21,
   "id": "ab5a051a",
   "metadata": {},
   "outputs": [
    {
     "data": {
      "text/plain": [
       "1.0"
      ]
     },
     "execution_count": 21,
     "metadata": {},
     "output_type": "execute_result"
    }
   ],
   "source": [
    "acc=(conmat[\"TP\"] + conmat[\"TN\"])/(conmat[\"TP\"] + conmat[\"TN\"]+conmat[\"FP\"]+conmat[\"FN\"])\n",
    "pres=(conmat[\"TP\"])/(conmat[\"TP\"] +conmat[\"FP\"])\n",
    "recall=(conmat[\"TP\"])/(conmat[\"TP\"] +conmat[\"FN\"])\n",
    "f1=(2*pres*recall)/(pres+recall)\n",
    "recall"
   ]
  },
  {
   "cell_type": "code",
   "execution_count": 22,
   "id": "c426faaf",
   "metadata": {},
   "outputs": [
    {
     "data": {
      "text/plain": [
       "0.6666666666666666"
      ]
     },
     "execution_count": 22,
     "metadata": {},
     "output_type": "execute_result"
    }
   ],
   "source": [
    "acc"
   ]
  },
  {
   "cell_type": "code",
   "execution_count": 23,
   "id": "5a260977",
   "metadata": {},
   "outputs": [
    {
     "data": {
      "text/plain": [
       "0.6666666666666666"
      ]
     },
     "execution_count": 23,
     "metadata": {},
     "output_type": "execute_result"
    }
   ],
   "source": [
    "pres"
   ]
  },
  {
   "cell_type": "code",
   "execution_count": 24,
   "id": "64d92ae7",
   "metadata": {},
   "outputs": [
    {
     "data": {
      "text/plain": [
       "0.8"
      ]
     },
     "execution_count": 24,
     "metadata": {},
     "output_type": "execute_result"
    }
   ],
   "source": [
    "f1"
   ]
  },
  {
   "cell_type": "code",
   "execution_count": null,
   "id": "9570be9c",
   "metadata": {},
   "outputs": [],
   "source": []
  },
  {
   "cell_type": "code",
   "execution_count": null,
   "id": "2a8e60fe",
   "metadata": {},
   "outputs": [],
   "source": []
  },
  {
   "cell_type": "code",
   "execution_count": null,
   "id": "48d2bdf0",
   "metadata": {},
   "outputs": [],
   "source": []
  },
  {
   "cell_type": "code",
   "execution_count": null,
   "id": "18b63407",
   "metadata": {},
   "outputs": [],
   "source": []
  },
  {
   "cell_type": "code",
   "execution_count": null,
   "id": "c30be012",
   "metadata": {},
   "outputs": [],
   "source": []
  },
  {
   "cell_type": "code",
   "execution_count": null,
   "id": "6cf25212",
   "metadata": {},
   "outputs": [],
   "source": []
  }
 ],
 "metadata": {
  "kernelspec": {
   "display_name": "Python 3",
   "language": "python",
   "name": "python3"
  },
  "language_info": {
   "codemirror_mode": {
    "name": "ipython",
    "version": 3
   },
   "file_extension": ".py",
   "mimetype": "text/x-python",
   "name": "python",
   "nbconvert_exporter": "python",
   "pygments_lexer": "ipython3",
   "version": "3.8.10"
  }
 },
 "nbformat": 4,
 "nbformat_minor": 5
}
